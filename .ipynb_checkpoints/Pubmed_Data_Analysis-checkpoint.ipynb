{
 "cells": [
  {
   "cell_type": "code",
   "execution_count": 1,
   "id": "dca57a6a-9835-44fb-b94e-e6c3d9d2635a",
   "metadata": {},
   "outputs": [],
   "source": [
    "from Bio import Entrez\n",
    "import time\n",
    "import subprocess"
   ]
  },
  {
   "cell_type": "markdown",
   "id": "ceb62d36-f736-4a37-b8ab-490fdba30287",
   "metadata": {},
   "source": [
    "### TODO\n",
    "- Put this in py file in the docker edirect environment\n",
    "- Check and debug dockerfile to make image more accurate"
   ]
  },
  {
   "cell_type": "code",
   "execution_count": 2,
   "id": "37344054-1aa8-4636-8fbc-b77b937e623f",
   "metadata": {},
   "outputs": [],
   "source": [
    "def build_query():\n",
    "    searchterm = input(\"Enter query searching term:\")\n",
    "    article_type = (' AND (\"Clinical Trial\"[PT] OR \"Randomized Controlled Trial\"[PT] OR \"Meta-Analysis\"[PT] '\n",
    "                    'OR \"Systematic Review\"[PT] OR \"Comparative Study\"[PT] OR \"Observational Study\"[PT] '\n",
    "                    'OR \"Validation Study\"[PT] OR \"Case Reports\"[PT] OR \"Review\"[PT])')\n",
    "    full_query = (searchterm + article_type)\n",
    "    full_query = full_query.replace(\"(\", \"\\\\(\").replace(\")\", \"\\\\)\")\n",
    "\n",
    "    sanitized_searchterm = searchterm #re.sub(r'[^a-zA-Z0-9_-]', '_', searchterm) -> need new docker image to install packages as regex\n",
    "    return sanitized_searchterm, full_query\n"
   ]
  },
  {
   "cell_type": "code",
   "execution_count": 3,
   "id": "75900306-2ff3-4cb5-922a-87ec2a60dc39",
   "metadata": {},
   "outputs": [],
   "source": [
    "def create_script(sanitized_searchterm, full_query):\n",
    "    script_filename = f\"fetch_pubmed_{sanitized_searchterm.replace(' ', '_')}.sh\"\n",
    "    script_content = f\"\"\" #!/bin/bash\n",
    "                    /root/edirect/esearch -db pubmed -query '{full_query}' | /root/edirect/efetch -format xml > {sanitized_searchterm.replace(' ', '_')}_pubmed_data.xml\"\"\"\n",
    "\n",
    "    return script_filename, script_content\n",
    "    \n",
    "    \n"
   ]
  },
  {
   "cell_type": "code",
   "execution_count": 4,
   "id": "76f8062d-5851-419b-8bbd-0b06ca44e325",
   "metadata": {},
   "outputs": [],
   "source": [
    "def fetch_data(script_filename, script_content):\n",
    "    with open(script_filename, 'w') as file:\n",
    "        file.write(script_content)\n",
    "\n",
    "    \n",
    "    #subprocess.run(f\"docker exec -it edirect_container bash -c \\\"bash {script_filename}\\\"\", shell=True, check=True)\n",
    "    #subprocess.run(f\"/bin/chmod +x {script_filename}\", shell=True, check=True)\n",
    "    #subprocess.run(f\"bash {script_filename}'\", shell=True, check=True)\n",
    "\n"
   ]
  },
  {
   "cell_type": "code",
   "execution_count": 5,
   "id": "fdd2cdb2-2457-4e5d-a7ad-904be01b246e",
   "metadata": {},
   "outputs": [
    {
     "name": "stdin",
     "output_type": "stream",
     "text": [
      "Enter emailadres: michael.viroux@gmail.com\n",
      "Enter query searching term: calcium\n"
     ]
    }
   ],
   "source": [
    "Entrez.email = input(\"Enter emailadres:\")\n",
    "sanitized_searchterm, full_query = build_query()\n",
    "script_filename, script_content = create_script(sanitized_searchterm, full_query)\n",
    "fetch_data(script_filename, script_content)\n"
   ]
  },
  {
   "cell_type": "code",
   "execution_count": 6,
   "id": "bc9c267c-a098-463f-b507-e68bd6e4b3dd",
   "metadata": {},
   "outputs": [
    {
     "data": {
      "text/plain": [
       "CompletedProcess(args=['docker', 'exec', 'edirect_container', 'bash', '-c', 'bash fetch_pubmed_calcium.sh'], returncode=0)"
      ]
     },
     "execution_count": 6,
     "metadata": {},
     "output_type": "execute_result"
    }
   ],
   "source": [
    "subprocess.run([\"docker\", \"exec\", \"edirect_container\", \"bash\", \"-c\", f\"bash {script_filename}\"], check=True)"
   ]
  },
  {
   "cell_type": "code",
   "execution_count": null,
   "id": "5cfb0190-45a4-42cf-b747-9ddfca76da21",
   "metadata": {},
   "outputs": [],
   "source": [
    "#subprocess.run([\"docker\", \"exec\", \"edirect_container\", \"bash\", \"-c\", \"bash fetch_pubmed_calcium.sh\"], check=True)\n"
   ]
  }
 ],
 "metadata": {
  "kernelspec": {
   "display_name": "Python 3 (ipykernel)",
   "language": "python",
   "name": "python3"
  },
  "language_info": {
   "codemirror_mode": {
    "name": "ipython",
    "version": 3
   },
   "file_extension": ".py",
   "mimetype": "text/x-python",
   "name": "python",
   "nbconvert_exporter": "python",
   "pygments_lexer": "ipython3",
   "version": "3.12.3"
  }
 },
 "nbformat": 4,
 "nbformat_minor": 5
}
