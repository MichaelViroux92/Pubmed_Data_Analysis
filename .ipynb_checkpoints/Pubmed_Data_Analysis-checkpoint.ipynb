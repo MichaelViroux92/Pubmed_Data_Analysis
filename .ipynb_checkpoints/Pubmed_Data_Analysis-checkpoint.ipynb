{
 "cells": [
  {
   "cell_type": "markdown",
   "id": "7f4e50f6-2ffe-4a10-8117-0657ec2ceb23",
   "metadata": {},
   "source": [
    "## Put some code here ##"
   ]
  },
  {
   "cell_type": "code",
   "execution_count": 1,
   "id": "dca57a6a-9835-44fb-b94e-e6c3d9d2635a",
   "metadata": {},
   "outputs": [],
   "source": [
    "from Bio import Entrez"
   ]
  },
  {
   "cell_type": "code",
   "execution_count": null,
   "id": "37344054-1aa8-4636-8fbc-b77b937e623f",
   "metadata": {},
   "outputs": [],
   "source": []
  }
 ],
 "metadata": {
  "kernelspec": {
   "display_name": "Python 3 (ipykernel)",
   "language": "python",
   "name": "python3"
  },
  "language_info": {
   "codemirror_mode": {
    "name": "ipython",
    "version": 3
   },
   "file_extension": ".py",
   "mimetype": "text/x-python",
   "name": "python",
   "nbconvert_exporter": "python",
   "pygments_lexer": "ipython3",
   "version": "3.12.3"
  }
 },
 "nbformat": 4,
 "nbformat_minor": 5
}
