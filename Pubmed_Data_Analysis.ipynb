{
 "cells": [
  {
   "cell_type": "code",
   "execution_count": 10,
   "id": "dca57a6a-9835-44fb-b94e-e6c3d9d2635a",
   "metadata": {},
   "outputs": [],
   "source": [
    "from Bio import Entrez\n",
    "import time\n",
    "import subprocess"
   ]
  },
  {
   "cell_type": "markdown",
   "id": "ceb62d36-f736-4a37-b8ab-490fdba30287",
   "metadata": {},
   "source": [
    "### TODO\n",
    "- Generate customazible .sh file that can be automatically run in docker\n",
    "- Check how to automate the docker command\n",
    "- Chunks are now based on number of lines. File1 has 100000 lines, file2 also, etc. Check to make it article base, 10000 articles per file for example\n",
    "- Send chunk files to seperate folder automatically\n",
    "- Check and debug dockerfile to make image more accurate"
   ]
  },
  {
   "cell_type": "markdown",
   "id": "cba4c4ce-060e-4dba-ac6e-a9cc80638ce0",
   "metadata": {},
   "source": [
    "### Docker/edirect commands\n",
    "#### .sh file to run (example)\n",
    "- /root/edirect/esearch -db pubmed -query 'vitamin D AND (\"Clinical Trial\"[PT] OR \"Randomized Controlled Trial\"[PT] OR \"Meta-Analysis\"[PT] OR \"Systematic Review\"[PT] OR \"Comparative Study\"[PT] OR \"Observational Study\"[PT] OR \"Validation Study\"[PT] OR \"Case Reports\"[PT] OR \"Review\"[PT])' \\\n",
    "| /root/edirect/efetch -format xml \\\n",
    "| split -l 100000 - pubmed_chunk_\n",
    "- sh file is needed because query input too long\n",
    "#### Commands docker\n",
    "- docker exec -it edirect_container bash -> open an interactive bash shell inside a running Docker container and do stuff\n",
    "#### Commands in docker command line\n",
    "- apt update && apt install nano -y -> install nano (shouldnt this be in dockerfile??)\n",
    "- bash filename.sh -> run .sh file\n",
    "- nano filename.sh -> create and adjust .sh file\n",
    "\n"
   ]
  },
  {
   "cell_type": "code",
   "execution_count": 11,
   "id": "37344054-1aa8-4636-8fbc-b77b937e623f",
   "metadata": {},
   "outputs": [],
   "source": [
    "def build_query():\n",
    "    searchterm = input(\"Enter query searching term:\")\n",
    "    # filters\n",
    "    #start_date = input(\"Enter start date (YYYY/MM/DD):\")\n",
    "    #end_date = input(\"Enter end date (YYYY/MM/DD):\")\n",
    "    #date_range = f' AND \"{start_date}\"[Date - Create] : \"{end_date}\"[Date - Create]'\n",
    "    article_type = (' AND (\"Clinical Trial\"[PT] OR \"Randomized Controlled Trial\"[PT] OR \"Meta-Analysis\"[PT] '\n",
    "                    'OR \"Systematic Review\"[PT] OR \"Comparative Study\"[PT] OR \"Observational Study\"[PT] '\n",
    "                    'OR \"Validation Study\"[PT] OR \"Case Reports\"[PT] OR \"Review\"[PT])')\n",
    "    full_query = searchterm + article_type\n",
    "    return full_query.replace('\"', '\\\\\"')\n"
   ]
  },
  {
   "cell_type": "code",
   "execution_count": 12,
   "id": "76f8062d-5851-419b-8bbd-0b06ca44e325",
   "metadata": {},
   "outputs": [],
   "source": [
    "def fetch_data(query):\n",
    "    \n",
    "    # Get all ID's using pubmed's edirect functionality via a docker container\n",
    "    docker_command = f\"\"\"docker exec edirect_container bash -c \"esearch -db pubmed -query '{query}' | efetch -format xml | split -l 10000 - pubmed_chunk_\"\"\"\n",
    "    result = subprocess.run(docker_command, shell=True, capture_output=True, text=True)\n",
    "    if result.returncode == 0:\n",
    "        print(\"Data fetched and split into chunks successfully.\")\n",
    "    else:\n",
    "        print(f\"Error fetching data: {result.stderr}\")\n",
    "\n"
   ]
  },
  {
   "cell_type": "code",
   "execution_count": 13,
   "id": "fdd2cdb2-2457-4e5d-a7ad-904be01b246e",
   "metadata": {},
   "outputs": [
    {
     "name": "stdin",
     "output_type": "stream",
     "text": [
      "Enter emailadres: michael.viroux@gmail.com\n",
      "Enter query searching term: \"vitamin d\"\n"
     ]
    },
    {
     "name": "stdout",
     "output_type": "stream",
     "text": [
      "Data fetched and split into chunks successfully.\n"
     ]
    }
   ],
   "source": [
    "Entrez.email = input(\"Enter emailadres:\")\n",
    "query = build_query()\n",
    "XML_files = fetch_data(query)\n"
   ]
  },
  {
   "cell_type": "code",
   "execution_count": 5,
   "id": "82dc901a-0eb4-4115-a2e3-41734bf60cbf",
   "metadata": {},
   "outputs": [
    {
     "data": {
      "text/plain": [
       "'\\n    To retrieve more than 10,000 UIDs from databases other than PubMed, \\n    submit multiple esearch requests while incrementing the value of retstart (see Application 3). \\n    For PubMed, ESearch can only retrieve the first 10,000 records matching the query. \\n    To obtain more than 10,000 PubMed records, consider using <EDirect> that contains additional logic\\n    to batch PubMed search results automatically so that an arbitrary number can be retrieved.\\n    For details see https://www.ncbi.nlm.nih.gov/books/NBK25499/\\n'"
      ]
     },
     "execution_count": 5,
     "metadata": {},
     "output_type": "execute_result"
    }
   ],
   "source": [
    "\"\"\"\n",
    "    To retrieve more than 10,000 UIDs from databases other than PubMed, \n",
    "    submit multiple esearch requests while incrementing the value of retstart (see Application 3). \n",
    "    For PubMed, ESearch can only retrieve the first 10,000 records matching the query. \n",
    "    To obtain more than 10,000 PubMed records, consider using <EDirect> that contains additional logic\n",
    "    to batch PubMed search results automatically so that an arbitrary number can be retrieved.\n",
    "    For details see https://www.ncbi.nlm.nih.gov/books/NBK25499/\n",
    "\"\"\""
   ]
  },
  {
   "cell_type": "code",
   "execution_count": null,
   "id": "af738602-8d31-40d0-ab32-6eb795dec468",
   "metadata": {},
   "outputs": [],
   "source": [
    "def fetch_data():\n",
    "    \n",
    "    return"
   ]
  },
  {
   "cell_type": "markdown",
   "id": "dcd0909b-d528-4e9a-a628-a79ca7b6b4d3",
   "metadata": {},
   "source": [
    "#### To check further\n"
   ]
  },
  {
   "cell_type": "code",
   "execution_count": 14,
   "id": "0e0c1e47-aeb0-4847-8583-981a141e04eb",
   "metadata": {},
   "outputs": [
    {
     "ename": "SyntaxError",
     "evalue": "(unicode error) 'unicodeescape' codec can't decode bytes in position 3-4: truncated \\UXXXXXXXX escape (3089692399.py, line 1)",
     "output_type": "error",
     "traceback": [
      "\u001b[1;36m  Cell \u001b[1;32mIn[14], line 1\u001b[1;36m\u001b[0m\n\u001b[1;33m    \"\"\"\u001b[0m\n\u001b[1;37m    ^\u001b[0m\n\u001b[1;31mSyntaxError\u001b[0m\u001b[1;31m:\u001b[0m (unicode error) 'unicodeescape' codec can't decode bytes in position 3-4: truncated \\UXXXXXXXX escape\n"
     ]
    }
   ],
   "source": [
    "\"\"\"\n",
    "C:\\Users\\Gebruiker\\Documents\\Pubmed_Data_Analysis>docker exec -it edirect_container bash\n",
    "root@f09c2f42ae66:/data# esearch --version\n",
    "bash: esearch: command not found\n",
    "root@f09c2f42ae66:/data# apt-get update\n",
    "apt-get install -y curl\n",
    "sh -c \"$(curl -fsSL https://ftp.ncbi.nlm.nih.gov/entrez/entrezdirect/install-edirect.sh)\"\n",
    "Hit:1 http://archive.ubuntu.com/ubuntu noble InRelease\n",
    "Get:2 http://archive.ubuntu.com/ubuntu noble-updates InRelease [126 kB]\n",
    "Hit:3 http://archive.ubuntu.com/ubuntu noble-backports InRelease\n",
    "Hit:4 http://security.ubuntu.com/ubuntu noble-security InRelease\n",
    "Get:5 http://archive.ubuntu.com/ubuntu noble-updates/universe amd64 Packages [1291 kB]\n",
    "Get:6 http://archive.ubuntu.com/ubuntu noble-updates/main amd64 Packages [1059 kB]\n",
    "Fetched 2476 kB in 2s (1640 kB/s)\n",
    "Reading package lists... Done\n",
    "Reading package lists... Done\n",
    "Building dependency tree... Done\n",
    "Reading state information... Done\n",
    "curl is already the newest version (8.5.0-2ubuntu10.6).\n",
    "0 upgraded, 0 newly installed, 0 to remove and 17 not upgraded.\n",
    "\n",
    "Entrez Direct has been successfully downloaded and installed.\n",
    "\n",
    "In order to complete the configuration process, please execute the following:\n",
    "\n",
    "  echo \"export PATH=/root/edirect:\\${PATH}\" >> ${HOME}/.bashrc\n",
    "\n",
    "or manually edit the PATH variable assignment in your .bashrc file.\n",
    "\n",
    "Would you like to do that automatically now? [y/N]\n",
    "y\n",
    "OK, done.\n",
    "\n",
    "To activate EDirect for this terminal session, please execute the following:\n",
    "\n",
    "export PATH=${HOME}/edirect:${PATH}\n",
    "\n",
    "\"\"\""
   ]
  },
  {
   "cell_type": "code",
   "execution_count": null,
   "id": "c5ea98d9-6f84-47a9-871d-694c64dc5bf1",
   "metadata": {},
   "outputs": [],
   "source": []
  }
 ],
 "metadata": {
  "kernelspec": {
   "display_name": "Python 3 (ipykernel)",
   "language": "python",
   "name": "python3"
  },
  "language_info": {
   "codemirror_mode": {
    "name": "ipython",
    "version": 3
   },
   "file_extension": ".py",
   "mimetype": "text/x-python",
   "name": "python",
   "nbconvert_exporter": "python",
   "pygments_lexer": "ipython3",
   "version": "3.12.3"
  }
 },
 "nbformat": 4,
 "nbformat_minor": 5
}
