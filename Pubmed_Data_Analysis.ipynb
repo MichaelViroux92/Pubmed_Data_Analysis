{
 "cells": [
  {
   "cell_type": "markdown",
   "id": "3d07c30a-1a0e-417c-a56c-ea735e971c36",
   "metadata": {},
   "source": [
    "#### TODO\n",
    "- Check how to get around article limit of 10000 if possible\n",
    "- Can use history server for other purposes?\n",
    "- What can be the advantage for using eutilities VS edirect / usecases?"
   ]
  },
  {
   "cell_type": "code",
   "execution_count": 32,
   "id": "dca57a6a-9835-44fb-b94e-e6c3d9d2635a",
   "metadata": {},
   "outputs": [],
   "source": [
    "from Bio import Entrez\n",
    "import time"
   ]
  },
  {
   "cell_type": "code",
   "execution_count": 33,
   "id": "37344054-1aa8-4636-8fbc-b77b937e623f",
   "metadata": {},
   "outputs": [],
   "source": [
    "def build_query():\n",
    "    searchterm = input(\"Enter query search term: \")\n",
    "    article_type = ('[IT] AND (\"Clinical Trial\"[PT] OR \"Randomized Controlled Trial\"[PT] OR \"Meta-Analysis\"[PT] '\n",
    "                    'OR \"Systematic Review\"[PT] OR \"Comparative Study\"[PT] OR \"Observational Study\"[PT] '\n",
    "                    'OR \"Validation Study\"[PT] OR \"Case Reports\"[PT] OR \"Review\"[PT])')\n",
    "    \n",
    "    full_query = searchterm + article_type\n",
    "    return full_query\n"
   ]
  },
  {
   "cell_type": "code",
   "execution_count": 34,
   "id": "76f8062d-5851-419b-8bbd-0b06ca44e325",
   "metadata": {},
   "outputs": [],
   "source": [
    "def history(full_query):\n",
    "    API_key = input(\"Enter API_key:\")\n",
    "\n",
    "    # Get number of data records\n",
    "    with Entrez.esearch(db=\"pubmed\", term=query, retmax=1, api_key=API_key, usehistory=\"y\") as handle:\n",
    "        results = Entrez.read(handle)\n",
    "        count = int(results[\"Count\"])\n",
    "        webenv = results[\"WebEnv\"]    \n",
    "        query_key = results[\"QueryKey\"]\n",
    "    \n",
    "    print(f\"Total articles found: {count}\")\n",
    "    print(f\"WebEnv: {webenv}, QueryKey: {query_key}\")\n",
    "    \n",
    "    return webenv, query_key, count, API_key\n"
   ]
  },
  {
   "cell_type": "code",
   "execution_count": 30,
   "id": "7748a14d-5739-46a9-9772-023856a66476",
   "metadata": {},
   "outputs": [],
   "source": [
    "def fetch_data(webenv, query_key, count, API_key, batchsize=5000):\n",
    "    article_data = []\n",
    "\n",
    "    for start in range(0, count, batchsize):\n",
    "        print(f\"Records {start + 1} to {min(start + batchsize, count)}...\")\n",
    "        \n",
    "        with Entrez.efetch(db=\"pubmed\", query_key=query_key, webenv=webenv, retstart=start, retmax=batchsize, \n",
    "                           rettype=\"xml\", api_key=API_key) as handle:\n",
    "            data = handle.read()\n",
    "            article_data.append(data)\n",
    "        \n",
    "        time.sleep(10)\n",
    "\n",
    "    print(\"Data fetching complete.\")\n",
    "    return article_data"
   ]
  },
  {
   "cell_type": "code",
   "execution_count": null,
   "id": "fdd2cdb2-2457-4e5d-a7ad-904be01b246e",
   "metadata": {},
   "outputs": [],
   "source": [
    "Entrez.email = input(\"Enter emailadres:\")\n",
    "query = build_query()\n",
    "webenv, query_key, count, API_key = history(query)\n",
    "articles = fetch_data(webenv, query_key, count, API_key)"
   ]
  },
  {
   "cell_type": "code",
   "execution_count": 5,
   "id": "82dc901a-0eb4-4115-a2e3-41734bf60cbf",
   "metadata": {},
   "outputs": [
    {
     "data": {
      "text/plain": [
       "'\\n    To retrieve more than 10,000 UIDs from databases other than PubMed, \\n    submit multiple esearch requests while incrementing the value of retstart (see Application 3). \\n    For PubMed, ESearch can only retrieve the first 10,000 records matching the query. \\n    To obtain more than 10,000 PubMed records, consider using <EDirect> that contains additional logic\\n    to batch PubMed search results automatically so that an arbitrary number can be retrieved.\\n    For details see https://www.ncbi.nlm.nih.gov/books/NBK25499/\\n'"
      ]
     },
     "execution_count": 5,
     "metadata": {},
     "output_type": "execute_result"
    }
   ],
   "source": [
    "\"\"\"\n",
    "    To retrieve more than 10,000 UIDs from databases other than PubMed, \n",
    "    submit multiple esearch requests while incrementing the value of retstart (see Application 3). \n",
    "    For PubMed, ESearch can only retrieve the first 10,000 records matching the query. \n",
    "    To obtain more than 10,000 PubMed records, consider using <EDirect> that contains additional logic\n",
    "    to batch PubMed search results automatically so that an arbitrary number can be retrieved.\n",
    "    For details see https://www.ncbi.nlm.nih.gov/books/NBK25499/\n",
    "\"\"\""
   ]
  }
 ],
 "metadata": {
  "kernelspec": {
   "display_name": "Python 3 (ipykernel)",
   "language": "python",
   "name": "python3"
  },
  "language_info": {
   "codemirror_mode": {
    "name": "ipython",
    "version": 3
   },
   "file_extension": ".py",
   "mimetype": "text/x-python",
   "name": "python",
   "nbconvert_exporter": "python",
   "pygments_lexer": "ipython3",
   "version": "3.12.3"
  }
 },
 "nbformat": 4,
 "nbformat_minor": 5
}
