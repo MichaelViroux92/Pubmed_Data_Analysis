{
 "cells": [
  {
   "cell_type": "code",
   "execution_count": 6,
   "id": "dca57a6a-9835-44fb-b94e-e6c3d9d2635a",
   "metadata": {},
   "outputs": [],
   "source": [
    "from Bio import Entrez\n",
    "import time"
   ]
  },
  {
   "cell_type": "code",
   "execution_count": 7,
   "id": "37344054-1aa8-4636-8fbc-b77b937e623f",
   "metadata": {},
   "outputs": [],
   "source": [
    "def build_query():\n",
    "    searchterm = input(\"Enter query searching term:\")\n",
    "    # filters\n",
    "    start_date = input(\"Enter start date (YYYY/MM/DD):\")\n",
    "    end_date = input(\"Enter end date (YYYY/MM/DD):\")\n",
    "    date_range = f' AND \"{start_date}\"[Date - Create] : \"{end_date}\"[Date - Create]'\n",
    "    return searchterm + date_range\n"
   ]
  },
  {
   "cell_type": "code",
   "execution_count": 8,
   "id": "76f8062d-5851-419b-8bbd-0b06ca44e325",
   "metadata": {},
   "outputs": [],
   "source": [
    "def fetch_ID(query, batchsize=500): #batchsize max is 100000\n",
    "    API_key = input(\"Enter API_key:\")\n",
    "    ID_list = []\n",
    "\n",
    "    # Get number of data records\n",
    "    with Entrez.esearch(db=\"pubmed\", term=query, retmax=1, api_key=API_key) as handle:\n",
    "        results = Entrez.read(handle)\n",
    "        count = int(results[\"Count\"])\n",
    "        print(f\"Total articles found: {count}\")\n",
    "        \n",
    "    # Start fetching in batches\n",
    "    for index in range(0, count, batchsize):\n",
    "        with Entrez.esearch(db=\"pubmed\", term=query, retmax=batchsize, retstart=index, api_key=API_key) as handle:\n",
    "            results = Entrez.read(handle)\n",
    "            ID_list.extend(results[\"IdList\"])\n",
    "        time.sleep(0.1)\n",
    "    \n",
    "    return ID_list"
   ]
  },
  {
   "cell_type": "code",
   "execution_count": 9,
   "id": "fdd2cdb2-2457-4e5d-a7ad-904be01b246e",
   "metadata": {},
   "outputs": [
    {
     "name": "stdin",
     "output_type": "stream",
     "text": [
      "Enter emailadres: michael.viroux@gmail.com\n",
      "Enter query searching term: \"vitamin d\"\n",
      "Enter start date (YYYY/MM/DD): 2010/01/01\n",
      "Enter end date (YYYY/MM/DD): 2024/01/01\n",
      "Enter API_key: 6898e4b9cc65f86c658e0ffffad70d6c0209\n"
     ]
    },
    {
     "name": "stdout",
     "output_type": "stream",
     "text": [
      "Total articles found: 56643\n"
     ]
    },
    {
     "ename": "RuntimeError",
     "evalue": "Search Backend failed: Exception:\n'retstart' cannot be larger than 9998. For PubMed, ESearch can only retrieve the first 9,999 records matching the query. To obtain more than 9,999 PubMed records, consider using EDirect that contains additional logic to batch PubMed search results automatically so that an arbitrary number can be retrieved. For details see https://www.ncbi.nlm.nih.gov/books/NBK25499/",
     "output_type": "error",
     "traceback": [
      "\u001b[1;31m---------------------------------------------------------------------------\u001b[0m",
      "\u001b[1;31mRuntimeError\u001b[0m                              Traceback (most recent call last)",
      "Cell \u001b[1;32mIn[9], line 3\u001b[0m\n\u001b[0;32m      1\u001b[0m Entrez\u001b[38;5;241m.\u001b[39memail \u001b[38;5;241m=\u001b[39m \u001b[38;5;28minput\u001b[39m(\u001b[38;5;124m\"\u001b[39m\u001b[38;5;124mEnter emailadres:\u001b[39m\u001b[38;5;124m\"\u001b[39m)\n\u001b[0;32m      2\u001b[0m query \u001b[38;5;241m=\u001b[39m build_query()\n\u001b[1;32m----> 3\u001b[0m all_ids \u001b[38;5;241m=\u001b[39m fetch_ID(query)\n\u001b[0;32m      4\u001b[0m \u001b[38;5;28mprint\u001b[39m(all_ids)\n",
      "Cell \u001b[1;32mIn[8], line 14\u001b[0m, in \u001b[0;36mfetch_ID\u001b[1;34m(query, batchsize)\u001b[0m\n\u001b[0;32m     12\u001b[0m \u001b[38;5;28;01mfor\u001b[39;00m index \u001b[38;5;129;01min\u001b[39;00m \u001b[38;5;28mrange\u001b[39m(\u001b[38;5;241m0\u001b[39m, count, batchsize):\n\u001b[0;32m     13\u001b[0m     \u001b[38;5;28;01mwith\u001b[39;00m Entrez\u001b[38;5;241m.\u001b[39mesearch(db\u001b[38;5;241m=\u001b[39m\u001b[38;5;124m\"\u001b[39m\u001b[38;5;124mpubmed\u001b[39m\u001b[38;5;124m\"\u001b[39m, term\u001b[38;5;241m=\u001b[39mquery, retmax\u001b[38;5;241m=\u001b[39mbatchsize, retstart\u001b[38;5;241m=\u001b[39mindex, api_key\u001b[38;5;241m=\u001b[39mAPI_key) \u001b[38;5;28;01mas\u001b[39;00m handle:\n\u001b[1;32m---> 14\u001b[0m         results \u001b[38;5;241m=\u001b[39m Entrez\u001b[38;5;241m.\u001b[39mread(handle)\n\u001b[0;32m     15\u001b[0m         ID_list\u001b[38;5;241m.\u001b[39mextend(results[\u001b[38;5;124m\"\u001b[39m\u001b[38;5;124mIdList\u001b[39m\u001b[38;5;124m\"\u001b[39m])\n\u001b[0;32m     16\u001b[0m     time\u001b[38;5;241m.\u001b[39msleep(\u001b[38;5;241m0.1\u001b[39m)\n",
      "File \u001b[1;32m~\\anaconda3\\envs\\pubmed_data_analysis\\Lib\\site-packages\\Bio\\Entrez\\__init__.py:529\u001b[0m, in \u001b[0;36mread\u001b[1;34m(source, validate, escape, ignore_errors)\u001b[0m\n\u001b[0;32m    526\u001b[0m \u001b[38;5;28;01mfrom\u001b[39;00m \u001b[38;5;21;01m.\u001b[39;00m\u001b[38;5;21;01mParser\u001b[39;00m \u001b[38;5;28;01mimport\u001b[39;00m DataHandler\n\u001b[0;32m    528\u001b[0m handler \u001b[38;5;241m=\u001b[39m DataHandler(validate, escape, ignore_errors)\n\u001b[1;32m--> 529\u001b[0m record \u001b[38;5;241m=\u001b[39m handler\u001b[38;5;241m.\u001b[39mread(source)\n\u001b[0;32m    530\u001b[0m \u001b[38;5;28;01mreturn\u001b[39;00m record\n",
      "File \u001b[1;32m~\\anaconda3\\envs\\pubmed_data_analysis\\Lib\\site-packages\\Bio\\Entrez\\Parser.py:405\u001b[0m, in \u001b[0;36mDataHandler.read\u001b[1;34m(self, source)\u001b[0m\n\u001b[0;32m    403\u001b[0m     \u001b[38;5;28;01mraise\u001b[39;00m \u001b[38;5;167;01mTypeError\u001b[39;00m(\u001b[38;5;124m\"\u001b[39m\u001b[38;5;124mfile should be opened in binary mode\u001b[39m\u001b[38;5;124m\"\u001b[39m)\n\u001b[0;32m    404\u001b[0m \u001b[38;5;28;01mtry\u001b[39;00m:\n\u001b[1;32m--> 405\u001b[0m     \u001b[38;5;28mself\u001b[39m\u001b[38;5;241m.\u001b[39mparser\u001b[38;5;241m.\u001b[39mParseFile(stream)\n\u001b[0;32m    406\u001b[0m \u001b[38;5;28;01mexcept\u001b[39;00m expat\u001b[38;5;241m.\u001b[39mExpatError \u001b[38;5;28;01mas\u001b[39;00m e:\n\u001b[0;32m    407\u001b[0m     \u001b[38;5;28;01mif\u001b[39;00m \u001b[38;5;28mself\u001b[39m\u001b[38;5;241m.\u001b[39mparser\u001b[38;5;241m.\u001b[39mStartElementHandler:\n\u001b[0;32m    408\u001b[0m         \u001b[38;5;66;03m# We saw the initial <!xml declaration, so we can be sure that\u001b[39;00m\n\u001b[0;32m    409\u001b[0m         \u001b[38;5;66;03m# we are parsing XML data. Most likely, the XML file is\u001b[39;00m\n\u001b[0;32m    410\u001b[0m         \u001b[38;5;66;03m# corrupted.\u001b[39;00m\n",
      "File \u001b[1;32mD:\\bld\\python-split_1713204914631\\work\\Modules\\pyexpat.c:477\u001b[0m, in \u001b[0;36mEndElement\u001b[1;34m()\u001b[0m\n",
      "File \u001b[1;32m~\\anaconda3\\envs\\pubmed_data_analysis\\Lib\\site-packages\\Bio\\Entrez\\Parser.py:818\u001b[0m, in \u001b[0;36mDataHandler.endErrorElementHandler\u001b[1;34m(self, tag)\u001b[0m\n\u001b[0;32m    816\u001b[0m     \u001b[38;5;28;01mreturn\u001b[39;00m\n\u001b[0;32m    817\u001b[0m \u001b[38;5;28;01mif\u001b[39;00m \u001b[38;5;28mself\u001b[39m\u001b[38;5;241m.\u001b[39mignore_errors \u001b[38;5;129;01mis\u001b[39;00m \u001b[38;5;28;01mFalse\u001b[39;00m:\n\u001b[1;32m--> 818\u001b[0m     \u001b[38;5;28;01mraise\u001b[39;00m \u001b[38;5;167;01mRuntimeError\u001b[39;00m(data)\n\u001b[0;32m    819\u001b[0m \u001b[38;5;28mself\u001b[39m\u001b[38;5;241m.\u001b[39mdata \u001b[38;5;241m=\u001b[39m []\n\u001b[0;32m    820\u001b[0m value \u001b[38;5;241m=\u001b[39m ErrorElement(data, tag)\n",
      "\u001b[1;31mRuntimeError\u001b[0m: Search Backend failed: Exception:\n'retstart' cannot be larger than 9998. For PubMed, ESearch can only retrieve the first 9,999 records matching the query. To obtain more than 9,999 PubMed records, consider using EDirect that contains additional logic to batch PubMed search results automatically so that an arbitrary number can be retrieved. For details see https://www.ncbi.nlm.nih.gov/books/NBK25499/"
     ]
    }
   ],
   "source": [
    "Entrez.email = input(\"Enter emailadres:\")\n",
    "query = build_query()\n",
    "all_ids = fetch_ID(query)\n",
    "print(all_ids)"
   ]
  },
  {
   "cell_type": "code",
   "execution_count": 10,
   "id": "82dc901a-0eb4-4115-a2e3-41734bf60cbf",
   "metadata": {},
   "outputs": [
    {
     "ename": "SyntaxError",
     "evalue": "incomplete input (688587233.py, line 1)",
     "output_type": "error",
     "traceback": [
      "\u001b[1;36m  Cell \u001b[1;32mIn[10], line 1\u001b[1;36m\u001b[0m\n\u001b[1;33m    \"\"\"\u001b[0m\n\u001b[1;37m    ^\u001b[0m\n\u001b[1;31mSyntaxError\u001b[0m\u001b[1;31m:\u001b[0m incomplete input\n"
     ]
    }
   ],
   "source": [
    "\"\"\"\n",
    "    To retrieve more than 10,000 UIDs from databases other than PubMed, \n",
    "    submit multiple esearch requests while incrementing the value of retstart (see Application 3). \n",
    "    For PubMed, ESearch can only retrieve the first 10,000 records matching the query. \n",
    "    To obtain more than 10,000 PubMed records, consider using <EDirect> that contains additional logic\n",
    "    to batch PubMed search results automatically so that an arbitrary number can be retrieved.\n",
    "    For details see https://www.ncbi.nlm.nih.gov/books/NBK25499/\n",
    "\"\"\""
   ]
  },
  {
   "cell_type": "code",
   "execution_count": null,
   "id": "af738602-8d31-40d0-ab32-6eb795dec468",
   "metadata": {},
   "outputs": [],
   "source": [
    "def fetch_data():\n",
    "    \n",
    "    return"
   ]
  }
 ],
 "metadata": {
  "kernelspec": {
   "display_name": "Python 3 (ipykernel)",
   "language": "python",
   "name": "python3"
  },
  "language_info": {
   "codemirror_mode": {
    "name": "ipython",
    "version": 3
   },
   "file_extension": ".py",
   "mimetype": "text/x-python",
   "name": "python",
   "nbconvert_exporter": "python",
   "pygments_lexer": "ipython3",
   "version": "3.12.3"
  }
 },
 "nbformat": 4,
 "nbformat_minor": 5
}
