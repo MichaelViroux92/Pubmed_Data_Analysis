{
 "cells": [
  {
   "cell_type": "code",
   "execution_count": 1,
   "id": "dca57a6a-9835-44fb-b94e-e6c3d9d2635a",
   "metadata": {},
   "outputs": [],
   "source": [
    "from Bio import Entrez\n",
    "import time"
   ]
  },
  {
   "cell_type": "code",
   "execution_count": 2,
   "id": "37344054-1aa8-4636-8fbc-b77b937e623f",
   "metadata": {},
   "outputs": [],
   "source": [
    "def build_query():\n",
    "    searchterm = input(\"Enter query searching term:\")\n",
    "    # filters\n",
    "    start_date = input(\"Enter start date (YYYY/MM/DD):\")\n",
    "    end_date = input(\"Enter end date (YYYY/MM/DD):\")\n",
    "    date_range = f' AND \"{start_date}\"[Date - Create] : \"{end_date}\"[Date - Create]'\n",
    "    return searchterm + date_range\n"
   ]
  },
  {
   "cell_type": "code",
   "execution_count": 3,
   "id": "76f8062d-5851-419b-8bbd-0b06ca44e325",
   "metadata": {},
   "outputs": [],
   "source": [
    "def fetch_ID(query, batchsize=500): #batchsize max is 100000\n",
    "    API_key = input(\"Enter API_key:\")\n",
    "    ID_list = []\n",
    "\n",
    "    # Get number of data records\n",
    "    with Entrez.esearch(db=\"pubmed\", term=query, retmax=1, api_key=API_key) as handle:\n",
    "        results = Entrez.read(handle)\n",
    "        count = int(results[\"Count\"])\n",
    "        print(f\"Total articles found: {count}\")\n",
    "\n",
    "    return count\n"
   ]
  },
  {
   "cell_type": "code",
   "execution_count": 4,
   "id": "fdd2cdb2-2457-4e5d-a7ad-904be01b246e",
   "metadata": {},
   "outputs": [
    {
     "name": "stdin",
     "output_type": "stream",
     "text": [
      "Enter emailadres: michael.viroux@gmail.com\n",
      "Enter query searching term: \"vitamin d\"\n",
      "Enter start date (YYYY/MM/DD): 2015/01/01\n",
      "Enter end date (YYYY/MM/DD): 2024/01/01\n",
      "Enter API_key: 6898e4b9cc65f86c658e0ffffad70d6c0209\n"
     ]
    },
    {
     "name": "stdout",
     "output_type": "stream",
     "text": [
      "Total articles found: 39719\n"
     ]
    }
   ],
   "source": [
    "Entrez.email = input(\"Enter emailadres:\")\n",
    "query = build_query()\n",
    "all_ids = fetch_ID(query)"
   ]
  },
  {
   "cell_type": "code",
   "execution_count": 5,
   "id": "82dc901a-0eb4-4115-a2e3-41734bf60cbf",
   "metadata": {},
   "outputs": [
    {
     "data": {
      "text/plain": [
       "'\\n    To retrieve more than 10,000 UIDs from databases other than PubMed, \\n    submit multiple esearch requests while incrementing the value of retstart (see Application 3). \\n    For PubMed, ESearch can only retrieve the first 10,000 records matching the query. \\n    To obtain more than 10,000 PubMed records, consider using <EDirect> that contains additional logic\\n    to batch PubMed search results automatically so that an arbitrary number can be retrieved.\\n    For details see https://www.ncbi.nlm.nih.gov/books/NBK25499/\\n'"
      ]
     },
     "execution_count": 5,
     "metadata": {},
     "output_type": "execute_result"
    }
   ],
   "source": [
    "\"\"\"\n",
    "    To retrieve more than 10,000 UIDs from databases other than PubMed, \n",
    "    submit multiple esearch requests while incrementing the value of retstart (see Application 3). \n",
    "    For PubMed, ESearch can only retrieve the first 10,000 records matching the query. \n",
    "    To obtain more than 10,000 PubMed records, consider using <EDirect> that contains additional logic\n",
    "    to batch PubMed search results automatically so that an arbitrary number can be retrieved.\n",
    "    For details see https://www.ncbi.nlm.nih.gov/books/NBK25499/\n",
    "\"\"\""
   ]
  },
  {
   "cell_type": "code",
   "execution_count": null,
   "id": "af738602-8d31-40d0-ab32-6eb795dec468",
   "metadata": {},
   "outputs": [],
   "source": [
    "def fetch_data():\n",
    "    \n",
    "    return"
   ]
  }
 ],
 "metadata": {
  "kernelspec": {
   "display_name": "Python 3 (ipykernel)",
   "language": "python",
   "name": "python3"
  },
  "language_info": {
   "codemirror_mode": {
    "name": "ipython",
    "version": 3
   },
   "file_extension": ".py",
   "mimetype": "text/x-python",
   "name": "python",
   "nbconvert_exporter": "python",
   "pygments_lexer": "ipython3",
   "version": "3.12.3"
  }
 },
 "nbformat": 4,
 "nbformat_minor": 5
}
